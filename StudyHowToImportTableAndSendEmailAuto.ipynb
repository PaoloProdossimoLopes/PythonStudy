{
  "nbformat": 4,
  "nbformat_minor": 0,
  "metadata": {
    "colab": {
      "name": "EmailAuto.ipynb",
      "provenance": [],
      "collapsed_sections": [],
      "mount_file_id": "1t1SU7VQG85Iecxp4ZkOq-UXctZr6AsPd",
      "authorship_tag": "ABX9TyO+Muyj1hsOpbBWFY5XPcHk",
      "include_colab_link": true
    },
    "kernelspec": {
      "name": "python3",
      "display_name": "Python 3"
    }
  },
  "cells": [
    {
      "cell_type": "markdown",
      "metadata": {
        "id": "view-in-github",
        "colab_type": "text"
      },
      "source": [
        "<a href=\"https://colab.research.google.com/github/PaoloProdossimoLopes/PythonStudy/blob/master/StudyHowToImportTableAndSendEmailAuto.ipynb\" target=\"_parent\"><img src=\"https://colab.research.google.com/assets/colab-badge.svg\" alt=\"Open In Colab\"/></a>"
      ]
    },
    {
      "cell_type": "code",
      "metadata": {
        "id": "rLj1rRvJHoTq",
        "colab": {
          "base_uri": "https://localhost:8080/",
          "height": 443
        },
        "outputId": "cf31040e-09b6-4246-c6b6-535681582532"
      },
      "source": [
        "#Importando a biblioteca para manusear as tabelas\r\n",
        "import pandas as pd\r\n",
        "\r\n",
        "#Recuperando tabela\r\n",
        "data_frame = pd.read_excel(\"/content/drive/MyDrive/Colab Notebooks/EMAIL-AUTOIMATICO-VENDAS/Vendas.xlsx\")\r\n",
        "\r\n",
        "\r\n",
        "#Tratando dados\r\n",
        "tabela_faturamento = data_frame[[\"ID Loja\",\"Valor Final\"]].groupby(\"ID Loja\").sum() #desordenado\r\n",
        "tabela_faturamento = tabela_faturamento.sort_values(by = \"Valor Final\", ascending = False) #ordenada\r\n",
        "print(\"--- tabela faturamento por loja ----\")\r\n",
        "#display(tabela_faturamento)#check\r\n",
        "\r\n",
        "tabela_Quantidade = data_frame[[\"ID Loja\", \"Quantidade\"]].groupby(\"ID Loja\").sum()\r\n",
        "tabela_Quantidade = tabela_Quantidade.sort_values(by = \"Quantidade\", ascending= False)\r\n",
        "print(\"--- tabela quantidade  de vendas por loja ----\")\r\n",
        "#display(tabela_Quantidade)#check\r\n",
        "\r\n",
        "\r\n",
        "#funação de enviar email (Snippet)\r\n",
        "import smtplib\r\n",
        "import email.message\r\n",
        "\r\n",
        "def enviar_email(resumo_loja, loja):\r\n",
        "\r\n",
        "  server = smtplib.SMTP('smtp.gmail.com:587')  \r\n",
        "  email_content = f'''\r\n",
        "  <p>Segue a baixo a o Relatorio,</p>\r\n",
        "  {resumo_loja.to_html()}\r\n",
        "  <p>Qualquer duvida entrar em contato,</p>\r\n",
        "  <p>Atenciosamente, Paolo</p>'''\r\n",
        "  \r\n",
        "  msg = email.message.Message()\r\n",
        "  msg['Subject'] = f'Paolo - Loja: {loja}'\r\n",
        "  \r\n",
        "  \r\n",
        "  msg['From'] = input(\"Coloque seu email aqui: \")\r\n",
        "  msg['To'] =  input(\"Coloque para qual desenha enviar o relaroio aqui: \")\r\n",
        "\r\n",
        "  print(\"e-mail\",msg['From'])\r\n",
        "  \r\n",
        "\r\n",
        "  password = input(\"Coloque sua senha aqui: \")\r\n",
        "  msg.add_header('Content-Type', 'text/html')\r\n",
        "  msg.set_payload(email_content)\r\n",
        "  \r\n",
        "  s = smtplib.SMTP('smtp.gmail.com: 587')\r\n",
        "  s.starttls()\r\n",
        "  # Login Credentials for sending the mail\r\n",
        "  s.login(msg['From'], password)\r\n",
        "  s.sendmail(msg['From'], [msg['To']], msg.as_string().encode('utf-8'))\r\n",
        "\r\n",
        "  print(f\"email para {msg['From']} enviado com sucesso\")\r\n",
        "\r\n",
        "\r\n",
        "#Envio de email para Os deiretores\r\n",
        "tabela_diretoria = tabela_faturamento.join(tabela_Quantidade)\r\n",
        "\r\n",
        "enviar_email(tabela_diretoria, \"todas\")\r\n"
      ],
