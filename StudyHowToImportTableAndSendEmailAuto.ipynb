{
  "nbformat": 4,
  "nbformat_minor": 0,
  "metadata": {
    "colab": {
      "name": "EmailAuto.ipynb",
      "provenance": [],
      "collapsed_sections": [],
      "mount_file_id": "1t1SU7VQG85Iecxp4ZkOq-UXctZr6AsPd",
      "authorship_tag": "ABX9TyO+Muyj1hsOpbBWFY5XPcHk",
      "include_colab_link": true
    },
    "kernelspec": {
      "name": "python3",
      "display_name": "Python 3"
    }
  },
  "cells": [
    {
      "cell_type": "markdown",
      "metadata": {
        "id": "view-in-github",
        "colab_type": "text"
      },
      "source": [
        "<a href=\"https://colab.research.google.com/github/PaoloProdossimoLopes/PythonStudy/blob/master/StudyHowToImportTableAndSendEmailAuto.ipynb\" target=\"_parent\"><img src=\"https://colab.research.google.com/assets/colab-badge.svg\" alt=\"Open In Colab\"/></a>"
      ]
    },
    {
      "cell_type": "code",
      "metadata": {
        "id": "rLj1rRvJHoTq",
        "colab": {
          "base_uri": "https://localhost:8080/",
          "height": 443
        },
        "outputId": "cf31040e-09b6-4246-c6b6-535681582532"
      },
      "source": [
        "#Importando a biblioteca para manusear as tabelas\r\n",
        "import pandas as pd\r\n",
        "\r\n",
        "#Recuperando tabela\r\n",
        "data_frame = pd.read_excel(\"/content/drive/MyDrive/Colab Notebooks/EMAIL-AUTOIMATICO-VENDAS/Vendas.xlsx\")\r\n",
        "\r\n",
        "\r\n",
        "#Tratando dados\r\n",
        "tabela_faturamento = data_frame[[\"ID Loja\",\"Valor Final\"]].groupby(\"ID Loja\").sum() #desordenado\r\n",
        "tabela_faturamento = tabela_faturamento.sort_values(by = \"Valor Final\", ascending = False) #ordenada\r\n",
        "print(\"--- tabela faturamento por loja ----\")\r\n",
        "#display(tabela_faturamento)#check\r\n",
        "\r\n",
        "tabela_Quantidade = data_frame[[\"ID Loja\", \"Quantidade\"]].groupby(\"ID Loja\").sum()\r\n",
        "tabela_Quantidade = tabela_Quantidade.sort_values(by = \"Quantidade\", ascending= False)\r\n",
        "print(\"--- tabela quantidade  de vendas por loja ----\")\r\n",
        "#display(tabela_Quantidade)#check\r\n",
        "\r\n",
        "\r\n",
        "#funação de enviar email (Snippet)\r\n",
        "import smtplib\r\n",
        "import email.message\r\n",
        "\r\n",
        "def enviar_email(resumo_loja, loja):\r\n",
        "\r\n",
        "  server = smtplib.SMTP('smtp.gmail.com:587')  \r\n",
        "  email_content = f'''\r\n",
        "  <p>Segue a baixo a o Relatorio,</p>\r\n",
        "  {resumo_loja.to_html()}\r\n",
        "  <p>Qualquer duvida entrar em contato,</p>\r\n",
        "  <p>Atenciosamente, Paolo</p>'''\r\n",
        "  \r\n",
        "  msg = email.message.Message()\r\n",
        "  msg['Subject'] = f'Paolo - Loja: {loja}'\r\n",
        "  \r\n",
        "  \r\n",
        "  msg['From'] = input(\"Coloque seu email aqui: \")\r\n",
        "  msg['To'] =  input(\"Coloque para qual desenha enviar o relaroio aqui: \")\r\n",
        "\r\n",
        "  print(\"e-mail\",msg['From'])\r\n",
        "  \r\n",
        "\r\n",
        "  password = input(\"Coloque sua senha aqui: \")\r\n",
        "  msg.add_header('Content-Type', 'text/html')\r\n",
        "  msg.set_payload(email_content)\r\n",
        "  \r\n",
        "  s = smtplib.SMTP('smtp.gmail.com: 587')\r\n",
        "  s.starttls()\r\n",
        "  # Login Credentials for sending the mail\r\n",
        "  s.login(msg['From'], password)\r\n",
        "  s.sendmail(msg['From'], [msg['To']], msg.as_string().encode('utf-8'))\r\n",
        "\r\n",
        "  print(f\"email para {msg['From']} enviado com sucesso\")\r\n",
        "\r\n",
        "\r\n",
        "#Envio de email para Os deiretores\r\n",
        "tabela_diretoria = tabela_faturamento.join(tabela_Quantidade)\r\n",
        "\r\n",
        "enviar_email(tabela_diretoria, \"todas\")\r\n"
      ],
      "execution_count": 4,
      "outputs": [
        {
          "output_type": "stream",
          "text": [
            "--- tabela faturamento por loja ----\n",
            "--- tabela quantidade  de vendas por loja ----\n",
            "Coloque seu email aqui: prols.developer@gmail.com\n",
            "Coloque para qual desenha enviar o relaroio aqui: pprodossimo@gmail.com\n",
            "e-mail prols.developer@gmail.com\n",
            "Coloque sua senha aqui: \"Deveras10\"\n"
          ],
          "name": "stdout"
        },
        {
          "output_type": "error",
          "ename": "SMTPAuthenticationError",
          "evalue": "ignored",
          "traceback": [
            "\u001b[0;31m---------------------------------------------------------------------------\u001b[0m",
            "\u001b[0;31mSMTPAuthenticationError\u001b[0m                   Traceback (most recent call last)",
            "\u001b[0;32m<ipython-input-4-82ec8e00c32a>\u001b[0m in \u001b[0;36m<module>\u001b[0;34m()\u001b[0m\n\u001b[1;32m     57\u001b[0m \u001b[0mtabela_diretoria\u001b[0m \u001b[0;34m=\u001b[0m \u001b[0mtabela_faturamento\u001b[0m\u001b[0;34m.\u001b[0m\u001b[0mjoin\u001b[0m\u001b[0;34m(\u001b[0m\u001b[0mtabela_Quantidade\u001b[0m\u001b[0;34m)\u001b[0m\u001b[0;34m\u001b[0m\u001b[0;34m\u001b[0m\u001b[0m\n\u001b[1;32m     58\u001b[0m \u001b[0;34m\u001b[0m\u001b[0m\n\u001b[0;32m---> 59\u001b[0;31m \u001b[0menviar_email\u001b[0m\u001b[0;34m(\u001b[0m\u001b[0mtabela_diretoria\u001b[0m\u001b[0;34m,\u001b[0m \u001b[0;34m\"todas\"\u001b[0m\u001b[0;34m)\u001b[0m\u001b[0;34m\u001b[0m\u001b[0;34m\u001b[0m\u001b[0m\n\u001b[0m",
            "\u001b[0;32m<ipython-input-4-82ec8e00c32a>\u001b[0m in \u001b[0;36menviar_email\u001b[0;34m(resumo_loja, loja)\u001b[0m\n\u001b[1;32m     48\u001b[0m   \u001b[0ms\u001b[0m\u001b[0;34m.\u001b[0m\u001b[0mstarttls\u001b[0m\u001b[0;34m(\u001b[0m\u001b[0;34m)\u001b[0m\u001b[0;34m\u001b[0m\u001b[0;34m\u001b[0m\u001b[0m\n\u001b[1;32m     49\u001b[0m   \u001b[0;31m# Login Credentials for sending the mail\u001b[0m\u001b[0;34m\u001b[0m\u001b[0;34m\u001b[0m\u001b[0;34m\u001b[0m\u001b[0m\n\u001b[0;32m---> 50\u001b[0;31m   \u001b[0ms\u001b[0m\u001b[0;34m.\u001b[0m\u001b[0mlogin\u001b[0m\u001b[0;34m(\u001b[0m\u001b[0mmsg\u001b[0m\u001b[0;34m[\u001b[0m\u001b[0;34m'From'\u001b[0m\u001b[0;34m]\u001b[0m\u001b[0;34m,\u001b[0m \u001b[0mpassword\u001b[0m\u001b[0;34m)\u001b[0m\u001b[0;34m\u001b[0m\u001b[0;34m\u001b[0m\u001b[0m\n\u001b[0m\u001b[1;32m     51\u001b[0m   \u001b[0ms\u001b[0m\u001b[0;34m.\u001b[0m\u001b[0msendmail\u001b[0m\u001b[0;34m(\u001b[0m\u001b[0mmsg\u001b[0m\u001b[0;34m[\u001b[0m\u001b[0;34m'From'\u001b[0m\u001b[0;34m]\u001b[0m\u001b[0;34m,\u001b[0m \u001b[0;34m[\u001b[0m\u001b[0mmsg\u001b[0m\u001b[0;34m[\u001b[0m\u001b[0;34m'To'\u001b[0m\u001b[0;34m]\u001b[0m\u001b[0;34m]\u001b[0m\u001b[0;34m,\u001b[0m \u001b[0mmsg\u001b[0m\u001b[0;34m.\u001b[0m\u001b[0mas_string\u001b[0m\u001b[0;34m(\u001b[0m\u001b[0;34m)\u001b[0m\u001b[0;34m.\u001b[0m\u001b[0mencode\u001b[0m\u001b[0;34m(\u001b[0m\u001b[0;34m'utf-8'\u001b[0m\u001b[0;34m)\u001b[0m\u001b[0;34m)\u001b[0m\u001b[0;34m\u001b[0m\u001b[0;34m\u001b[0m\u001b[0m\n\u001b[1;32m     52\u001b[0m \u001b[0;34m\u001b[0m\u001b[0m\n",
            "\u001b[0;32m/usr/lib/python3.6/smtplib.py\u001b[0m in \u001b[0;36mlogin\u001b[0;34m(self, user, password, initial_response_ok)\u001b[0m\n\u001b[1;32m    728\u001b[0m \u001b[0;34m\u001b[0m\u001b[0m\n\u001b[1;32m    729\u001b[0m         \u001b[0;31m# We could not login successfully.  Return result of last attempt.\u001b[0m\u001b[0;34m\u001b[0m\u001b[0;34m\u001b[0m\u001b[0;34m\u001b[0m\u001b[0m\n\u001b[0;32m--> 730\u001b[0;31m         \u001b[0;32mraise\u001b[0m \u001b[0mlast_exception\u001b[0m\u001b[0;34m\u001b[0m\u001b[0;34m\u001b[0m\u001b[0m\n\u001b[0m\u001b[1;32m    731\u001b[0m \u001b[0;34m\u001b[0m\u001b[0m\n\u001b[1;32m    732\u001b[0m     \u001b[0;32mdef\u001b[0m \u001b[0mstarttls\u001b[0m\u001b[0;34m(\u001b[0m\u001b[0mself\u001b[0m\u001b[0;34m,\u001b[0m \u001b[0mkeyfile\u001b[0m\u001b[0;34m=\u001b[0m\u001b[0;32mNone\u001b[0m\u001b[0;34m,\u001b[0m \u001b[0mcertfile\u001b[0m\u001b[0;34m=\u001b[0m\u001b[0;32mNone\u001b[0m\u001b[0;34m,\u001b[0m \u001b[0mcontext\u001b[0m\u001b[0;34m=\u001b[0m\u001b[0;32mNone\u001b[0m\u001b[0;34m)\u001b[0m\u001b[0;34m:\u001b[0m\u001b[0;34m\u001b[0m\u001b[0;34m\u001b[0m\u001b[0m\n",
            "\u001b[0;32m/usr/lib/python3.6/smtplib.py\u001b[0m in \u001b[0;36mlogin\u001b[0;34m(self, user, password, initial_response_ok)\u001b[0m\n\u001b[1;32m    719\u001b[0m                 (code, resp) = self.auth(\n\u001b[1;32m    720\u001b[0m                     \u001b[0mauthmethod\u001b[0m\u001b[0;34m,\u001b[0m \u001b[0mgetattr\u001b[0m\u001b[0;34m(\u001b[0m\u001b[0mself\u001b[0m\u001b[0;34m,\u001b[0m \u001b[0mmethod_name\u001b[0m\u001b[0;34m)\u001b[0m\u001b[0;34m,\u001b[0m\u001b[0;34m\u001b[0m\u001b[0;34m\u001b[0m\u001b[0m\n\u001b[0;32m--> 721\u001b[0;31m                     initial_response_ok=initial_response_ok)\n\u001b[0m\u001b[1;32m    722\u001b[0m                 \u001b[0;31m# 235 == 'Authentication successful'\u001b[0m\u001b[0;34m\u001b[0m\u001b[0;34m\u001b[0m\u001b[0;34m\u001b[0m\u001b[0m\n\u001b[1;32m    723\u001b[0m                 \u001b[0;31m# 503 == 'Error: already authenticated'\u001b[0m\u001b[0;34m\u001b[0m\u001b[0;34m\u001b[0m\u001b[0;34m\u001b[0m\u001b[0m\n",
            "\u001b[0;32m/usr/lib/python3.6/smtplib.py\u001b[0m in \u001b[0;36mauth\u001b[0;34m(self, mechanism, authobject, initial_response_ok)\u001b[0m\n\u001b[1;32m    640\u001b[0m         \u001b[0;32mif\u001b[0m \u001b[0mcode\u001b[0m \u001b[0;32min\u001b[0m \u001b[0;34m(\u001b[0m\u001b[0;36m235\u001b[0m\u001b[0;34m,\u001b[0m \u001b[0;36m503\u001b[0m\u001b[0;34m)\u001b[0m\u001b[0;34m:\u001b[0m\u001b[0;34m\u001b[0m\u001b[0;34m\u001b[0m\u001b[0m\n\u001b[1;32m    641\u001b[0m             \u001b[0;32mreturn\u001b[0m \u001b[0;34m(\u001b[0m\u001b[0mcode\u001b[0m\u001b[0;34m,\u001b[0m \u001b[0mresp\u001b[0m\u001b[0;34m)\u001b[0m\u001b[0;34m\u001b[0m\u001b[0;34m\u001b[0m\u001b[0m\n\u001b[0;32m--> 642\u001b[0;31m         \u001b[0;32mraise\u001b[0m \u001b[0mSMTPAuthenticationError\u001b[0m\u001b[0;34m(\u001b[0m\u001b[0mcode\u001b[0m\u001b[0;34m,\u001b[0m \u001b[0mresp\u001b[0m\u001b[0;34m)\u001b[0m\u001b[0;34m\u001b[0m\u001b[0;34m\u001b[0m\u001b[0m\n\u001b[0m\u001b[1;32m    643\u001b[0m \u001b[0;34m\u001b[0m\u001b[0m\n\u001b[1;32m    644\u001b[0m     \u001b[0;32mdef\u001b[0m \u001b[0mauth_cram_md5\u001b[0m\u001b[0;34m(\u001b[0m\u001b[0mself\u001b[0m\u001b[0;34m,\u001b[0m \u001b[0mchallenge\u001b[0m\u001b[0;34m=\u001b[0m\u001b[0;32mNone\u001b[0m\u001b[0;34m)\u001b[0m\u001b[0;34m:\u001b[0m\u001b[0;34m\u001b[0m\u001b[0;34m\u001b[0m\u001b[0m\n",
            "\u001b[0;31mSMTPAuthenticationError\u001b[0m: (535, b'5.7.8 Username and Password not accepted. Learn more at\\n5.7.8  https://support.google.com/mail/?p=BadCredentials b17sm6347853pfl.190 - gsmtp')"
          ]
        }
      ]
    }
  ]
}