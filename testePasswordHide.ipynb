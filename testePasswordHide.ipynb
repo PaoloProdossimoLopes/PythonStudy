{
  "nbformat": 4,
  "nbformat_minor": 0,
  "metadata": {
    "colab": {
      "name": "testePasswordHide.ipynb",
      "provenance": [],
      "authorship_tag": "ABX9TyO4Yk/kF4twhIwIETahvVWC",
      "include_colab_link": true
    },
    "kernelspec": {
      "name": "python3",
      "display_name": "Python 3"
    }
  },
  "cells": [
    {
      "cell_type": "markdown",
      "metadata": {
        "id": "view-in-github",
        "colab_type": "text"
      },
      "source": [
        "<a href=\"https://colab.research.google.com/github/PaoloProdossimoLopes/PythonStudy/blob/master/testePasswordHide.ipynb\" target=\"_parent\"><img src=\"https://colab.research.google.com/assets/colab-badge.svg\" alt=\"Open In Colab\"/></a>"
      ]
    },
    {
      "cell_type": "code",
      "metadata": {
        "id": "iBmd7cj7XSMZ"
      },
      "source": [
        "### Modelo 1\r\n",
        "## A simple Python program to demonstrate  \r\n",
        "## getpass.getpass() to read password \r\n",
        "#import getpass \r\n",
        "#try: \r\n",
        "#  p = getpass.getpass() \r\n",
        "#except Exception as error: \r\n",
        "#  print('ERROR', error) \r\n",
        "#else: \r\n",
        "#  print('Password entered:', p) \r\n"
      ],
      "execution_count": 12,
      "outputs": []
    },
    {
      "cell_type": "code",
      "metadata": {
        "id": "d9uJH9WhaHhm"
      },
      "source": [
        "def Senha_Escondida():\r\n",
        "  import getpass as gp\r\n",
        "  print(\"Senha: \")\r\n",
        "  input_senha = gp.getpass()\r\n",
        "  print(\"Sua senha é:\", input_senha)\r\n",
        "\r\n"
      ],
      "execution_count": 25,
      "outputs": []
    },
    {
      "cell_type": "code",
      "metadata": {
        "colab": {
          "base_uri": "https://localhost:8080/"
        },
        "id": "8SB-wN49acN9",
        "outputId": "b1ddb4eb-8619-4b4e-de42-26205360a384"
      },
      "source": [
        "Senha_Escondida()"
      ],
      "execution_count": 26,
      "outputs": [
        {
          "output_type": "stream",
          "text": [
            "Senha: \n",
            "··········\n",
            "Sua senha é: ola\n"
          ],
          "name": "stdout"
        }
      ]
    }
  ]
}